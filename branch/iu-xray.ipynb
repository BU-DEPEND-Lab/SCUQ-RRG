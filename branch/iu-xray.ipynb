{
 "cells": [
  {
   "cell_type": "code",
   "execution_count": 1,
   "metadata": {},
   "outputs": [],
   "source": [
    "import json\n",
    "import os\n",
    "\n",
    "import torch\n",
    "from PIL import Image\n",
    "from torch.utils.data import Dataset\n",
    "from torchvision import transforms\n"
   ]
  },
  {
   "cell_type": "code",
   "execution_count": 2,
   "metadata": {},
   "outputs": [],
   "source": [
    "class BaseDataset(Dataset):\n",
    "    def __init__(self, image_dir, ann_path, split, transform=None):\n",
    "        self.image_dir = image_dir\n",
    "        self.ann_path = ann_path\n",
    "        self.split = split\n",
    "        if self.split == 'train':\n",
    "            self.transform = transforms.Compose([\n",
    "                transforms.Resize(256),\n",
    "                transforms.RandomCrop(224),\n",
    "                transforms.RandomHorizontalFlip(),\n",
    "                transforms.ToTensor(),\n",
    "                transforms.Normalize((0.485, 0.456, 0.406),\n",
    "                                     (0.229, 0.224, 0.225))])\n",
    "        else:\n",
    "            self.transform = transforms.Compose([\n",
    "                transforms.Resize((224, 224)),\n",
    "                transforms.ToTensor(),\n",
    "                transforms.Normalize((0.485, 0.456, 0.406),\n",
    "                                     (0.229, 0.224, 0.225))])\n",
    "        self.ann = json.loads(open(self.ann_path, 'r').read())\n",
    "        self.examples = self.ann[self.split]\n",
    "\n",
    "    def __len__(self):\n",
    "        return len(self.examples)\n",
    "\n",
    "\n",
    "class IuxrayMultiImageDataset(BaseDataset):\n",
    "    def __getitem__(self, idx):\n",
    "        example = self.examples[idx]\n",
    "        image_id = example['id']\n",
    "        report = example['report']\n",
    "        image_path = example['image_path']\n",
    "        images = [Image.open(os.path.join(self.image_dir, i)).convert('RGB') for i in image_path]\n",
    "        if self.transform is not None:\n",
    "            images = [self.transform(i) for i in images]\n",
    "        sample = (image_id, images, report)\n",
    "        return sample"
   ]
  },
  {
   "cell_type": "code",
   "execution_count": 5,
   "metadata": {},
   "outputs": [],
   "source": [
    "image_dir = '/restricted/projectnb/batmanlab/chyuwang/dataset/iu_xray/images/'\n",
    "ann_path = '/restricted/projectnb/batmanlab/chyuwang/dataset/iu_xray/annotation.json'\n",
    "ds = IuxrayMultiImageDataset(image_dir,ann_path,'train',True)"
   ]
  },
  {
   "cell_type": "code",
   "execution_count": null,
   "metadata": {},
   "outputs": [],
   "source": []
  }
 ],
 "metadata": {
  "kernelspec": {
   "display_name": "Python 3",
   "language": "python",
   "name": "python3"
  },
  "language_info": {
   "codemirror_mode": {
    "name": "ipython",
    "version": 3
   },
   "file_extension": ".py",
   "mimetype": "text/x-python",
   "name": "python",
   "nbconvert_exporter": "python",
   "pygments_lexer": "ipython3",
   "version": "3.9.18"
  }
 },
 "nbformat": 4,
 "nbformat_minor": 2
}
