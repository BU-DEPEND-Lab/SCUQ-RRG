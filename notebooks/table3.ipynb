{
 "cells": [
  {
   "cell_type": "code",
   "execution_count": 1,
   "metadata": {},
   "outputs": [],
   "source": [
    "import pickle\n",
    "import numpy as np \n",
    "import pandas as pd\n",
    "import matplotlib.pyplot as plt\n",
    "import seaborn as sns\n",
    "from scipy.stats import pearsonr"
   ]
  },
  {
   "cell_type": "code",
   "execution_count": 2,
   "metadata": {},
   "outputs": [],
   "source": [
    "import pandas as pd\n",
    "all_pred = pd.read_csv(\"/restricted/projectnb/batmanlab/chyuwang/RaDialog/chexbert/outputs/predictions/predictions_checkpoints_vicuna-7b-img-report_checkpoint-11200.csv\",header=None)\n",
    "all_pred_list = all_pred.values.tolist()"
   ]
  },
  {
   "cell_type": "code",
   "execution_count": 3,
   "metadata": {},
   "outputs": [],
   "source": [
    "import pickle\n",
    "with open('/restricted/projectnb/batmanlab/chyuwang/RaDialog/exp/sampled/sampled_reports_num_beams1-500.pkl', 'rb') as file:\n",
    "    all_sample_list = pickle.load(file)"
   ]
  },
  {
   "cell_type": "code",
   "execution_count": 125,
   "metadata": {},
   "outputs": [
    {
     "data": {
      "text/plain": [
       "[['bleu_score', '0.1650'],\n",
       " ['bertscore', '0.3959'],\n",
       " ['semb_score', '0.4121'],\n",
       " ['radgraph_combined', '0.1871'],\n",
       " ['radgraph_recall', '0.1717'],\n",
       " ['radgraph_precision', '0.2287'],\n",
       " ['RadCliQ-v0', '3.3729'],\n",
       " ['RadCliQ-v1', '1.1536']]"
      ]
     },
     "execution_count": 125,
     "metadata": {},
     "output_type": "execute_result"
    }
   ],
   "source": [
    "import pandas as pd\n",
    "res = pd.read_csv('/restricted/projectnb/batmanlab/chyuwang/rrg_factual_uncertainty/exp_result/RaDialog/new_report_scores_13.0.csv')\n",
    "scr = [[hd,\"{:.4f}\".format(res[hd].mean())] for hd in res.keys()[5:]]\n",
    "scr"
   ]
  },
  {
   "cell_type": "code",
   "execution_count": 128,
   "metadata": {},
   "outputs": [
    {
     "data": {
      "text/plain": [
       "[['bleu_score', '0.1653'],\n",
       " ['bertscore', '0.3827'],\n",
       " ['semb_score', '0.3863'],\n",
       " ['radgraph_combined', '0.1749'],\n",
       " ['radgraph_recall', '0.1611'],\n",
       " ['radgraph_precision', '0.2153'],\n",
       " ['RadCliQ-v0', '3.4805'],\n",
       " ['RadCliQ-v1', '1.2162']]"
      ]
     },
     "execution_count": 128,
     "metadata": {},
     "output_type": "execute_result"
    }
   ],
   "source": [
    "import pandas as pd\n",
    "random_res = pd.read_csv('/restricted/projectnb/batmanlab/chyuwang/rrg_factual_uncertainty/exp_result/RaDialog/random_report_scores_11.0.csv')\n",
    "\n",
    "scr = [[hd,\"{:.4f}\".format(random_res[hd].mean())] for hd in random_res.keys()[5:]]\n",
    "scr"
   ]
  },
  {
   "cell_type": "code",
   "execution_count": 108,
   "metadata": {},
   "outputs": [],
   "source": [
    "import pandas as pd\n",
    "percent = 3.0\n",
    "res = pd.read_csv(f'/restricted/projectnb/batmanlab/chyuwang/rrg_factual_uncertainty/exp_result/RaDialog/new_report_scores_{percent}.csv')\n",
    "scr = [[hd,\"{:.4f}\".format(res[hd].mean())] for hd in res.keys()[5:]]\n",
    "file_path = f\"/restricted/projectnb/batmanlab/chyuwang/rrg_factual_uncertainty/exp_result/RaDialog/sent_remove/idx_rad_sent_removed_{percent}.txt\"\n",
    "with open(file_path, \"r\") as f:\n",
    "    selected_indices = [line.strip() for line in f]\n",
    "first_integers = [int(line.strip(\"()\").split(\",\")[0]) for line in selected_indices]\n"
   ]
  },
  {
   "cell_type": "code",
   "execution_count": 109,
   "metadata": {},
   "outputs": [
    {
     "data": {
      "text/plain": [
       "(457, 682)"
      ]
     },
     "execution_count": 109,
     "metadata": {},
     "output_type": "execute_result"
    }
   ],
   "source": [
    "len(list(set(first_integers))),len(first_integers)"
   ]
  },
  {
   "cell_type": "code",
   "execution_count": 110,
   "metadata": {},
   "outputs": [],
   "source": [
    "set_integers = list(set(first_integers))"
   ]
  },
  {
   "cell_type": "code",
   "execution_count": 111,
   "metadata": {},
   "outputs": [],
   "source": [
    "selected_rows = res.iloc[set_integers]\n",
    "ans = [[hd,\"{:.4f}\".format(selected_rows[hd].mean())] for hd in selected_rows.keys()[5:]]\n"
   ]
  }
 ],
 "metadata": {
  "kernelspec": {
   "display_name": "Python 3",
   "language": "python",
   "name": "python3"
  },
  "language_info": {
   "codemirror_mode": {
    "name": "ipython",
    "version": 3
   },
   "file_extension": ".py",
   "mimetype": "text/x-python",
   "name": "python",
   "nbconvert_exporter": "python",
   "pygments_lexer": "ipython3",
   "version": "3.8.18"
  }
 },
 "nbformat": 4,
 "nbformat_minor": 2
}
