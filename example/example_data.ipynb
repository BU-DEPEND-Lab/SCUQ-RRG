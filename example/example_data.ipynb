{
 "cells": [
  {
   "cell_type": "code",
   "execution_count": 3,
   "metadata": {},
   "outputs": [],
   "source": [
    "import pandas as pd\n",
    "import pickle\n"
   ]
  },
  {
   "cell_type": "markdown",
   "metadata": {},
   "source": [
    "# Report Score"
   ]
  },
  {
   "cell_type": "code",
   "execution_count": 4,
   "metadata": {},
   "outputs": [],
   "source": [
    "def load_pickle(file_path):\n",
    "    \"\"\"\n",
    "    Loads a pickle (.pkl) file and returns the object.\n",
    "    :param file_path: str, path to the pickle file\n",
    "    :return: object stored in the pickle file\n",
    "    \"\"\"\n",
    "    try:\n",
    "        with open(file_path, \"rb\") as f:\n",
    "            return pickle.load(f)\n",
    "    except Exception as e:\n",
    "        print(f\"Error loading pickle file: {e}\")\n",
    "        return None"
   ]
  },
  {
   "cell_type": "code",
   "execution_count": 19,
   "metadata": {},
   "outputs": [
    {
     "name": "stdout",
     "output_type": "stream",
     "text": [
      "[tensor(0.3750), tensor(0.1667), tensor(0.5000), tensor(0.4286), tensor(0.5000)]\n"
     ]
    }
   ],
   "source": [
    "# green score \n",
    "green_score = load_pickle(\"green_scores-3858.pkl\")\n",
    "print(green_score['greens'][0:5])"
   ]
  },
  {
   "cell_type": "code",
   "execution_count": 22,
   "metadata": {},
   "outputs": [
    {
     "data": {
      "text/html": [
       "<div>\n",
       "<style scoped>\n",
       "    .dataframe tbody tr th:only-of-type {\n",
       "        vertical-align: middle;\n",
       "    }\n",
       "\n",
       "    .dataframe tbody tr th {\n",
       "        vertical-align: top;\n",
       "    }\n",
       "\n",
       "    .dataframe thead th {\n",
       "        text-align: right;\n",
       "    }\n",
       "</style>\n",
       "<table border=\"1\" class=\"dataframe\">\n",
       "  <thead>\n",
       "    <tr style=\"text-align: right;\">\n",
       "      <th></th>\n",
       "      <th>bleu_score</th>\n",
       "      <th>bertscore</th>\n",
       "      <th>semb_score</th>\n",
       "      <th>radgraph_combined</th>\n",
       "      <th>radgraph_recall</th>\n",
       "      <th>radgraph_precision</th>\n",
       "      <th>RadCliQ-v0</th>\n",
       "    </tr>\n",
       "  </thead>\n",
       "  <tbody>\n",
       "    <tr>\n",
       "      <th>0</th>\n",
       "      <td>0.207783</td>\n",
       "      <td>0.359961</td>\n",
       "      <td>0.303561</td>\n",
       "      <td>0.104167</td>\n",
       "      <td>0.086207</td>\n",
       "      <td>0.131579</td>\n",
       "      <td>3.846878</td>\n",
       "    </tr>\n",
       "    <tr>\n",
       "      <th>1</th>\n",
       "      <td>0.147075</td>\n",
       "      <td>0.391174</td>\n",
       "      <td>0.267994</td>\n",
       "      <td>0.111111</td>\n",
       "      <td>0.103448</td>\n",
       "      <td>0.120000</td>\n",
       "      <td>3.765186</td>\n",
       "    </tr>\n",
       "    <tr>\n",
       "      <th>2</th>\n",
       "      <td>0.159794</td>\n",
       "      <td>0.358987</td>\n",
       "      <td>0.599427</td>\n",
       "      <td>0.178747</td>\n",
       "      <td>0.182857</td>\n",
       "      <td>0.175000</td>\n",
       "      <td>3.142770</td>\n",
       "    </tr>\n",
       "    <tr>\n",
       "      <th>3</th>\n",
       "      <td>0.089569</td>\n",
       "      <td>0.393364</td>\n",
       "      <td>0.372877</td>\n",
       "      <td>0.261641</td>\n",
       "      <td>0.185000</td>\n",
       "      <td>0.456731</td>\n",
       "      <td>3.281856</td>\n",
       "    </tr>\n",
       "    <tr>\n",
       "      <th>4</th>\n",
       "      <td>0.084440</td>\n",
       "      <td>0.291313</td>\n",
       "      <td>0.399405</td>\n",
       "      <td>0.041667</td>\n",
       "      <td>0.055556</td>\n",
       "      <td>0.033333</td>\n",
       "      <td>3.885200</td>\n",
       "    </tr>\n",
       "  </tbody>\n",
       "</table>\n",
       "</div>"
      ],
      "text/plain": [
       "   bleu_score  bertscore  semb_score  radgraph_combined  radgraph_recall  \\\n",
       "0    0.207783   0.359961    0.303561           0.104167         0.086207   \n",
       "1    0.147075   0.391174    0.267994           0.111111         0.103448   \n",
       "2    0.159794   0.358987    0.599427           0.178747         0.182857   \n",
       "3    0.089569   0.393364    0.372877           0.261641         0.185000   \n",
       "4    0.084440   0.291313    0.399405           0.041667         0.055556   \n",
       "\n",
       "   radgraph_precision  RadCliQ-v0  \n",
       "0            0.131579    3.846878  \n",
       "1            0.120000    3.765186  \n",
       "2            0.175000    3.142770  \n",
       "3            0.456731    3.281856  \n",
       "4            0.033333    3.885200  "
      ]
     },
     "execution_count": 22,
     "metadata": {},
     "output_type": "execute_result"
    }
   ],
   "source": [
    "# Clinical correctness score computed using the metrics from CXR-Report-Metric https://github.com/rajpurkarlab/CXR-Report-Metric\n",
    "score = pd.read_csv('report_scores_-1.csv')\n",
    "score.head()[score.keys()[4:-1]]"
   ]
  },
  {
   "cell_type": "markdown",
   "metadata": {},
   "source": [
    "# Uncertainty Score"
   ]
  },
  {
   "cell_type": "code",
   "execution_count": 35,
   "metadata": {},
   "outputs": [
    {
     "data": {
      "text/plain": [
       "[tensor(0.6667),\n",
       " tensor(0.8333),\n",
       " tensor(0.5000),\n",
       " tensor(0.5000),\n",
       " tensor(0.3333)]"
      ]
     },
     "execution_count": 35,
     "metadata": {},
     "output_type": "execute_result"
    }
   ],
   "source": [
    "# VRO-GREEN\n",
    "green_uncertainty = load_pickle(\"green_uncertainty-3858.pkl\")\n",
    "green_uncertainty['greens'][0:5]"
   ]
  },
  {
   "cell_type": "code",
   "execution_count": 32,
   "metadata": {},
   "outputs": [
    {
     "data": {
      "text/html": [
       "<div>\n",
       "<style scoped>\n",
       "    .dataframe tbody tr th:only-of-type {\n",
       "        vertical-align: middle;\n",
       "    }\n",
       "\n",
       "    .dataframe tbody tr th {\n",
       "        vertical-align: top;\n",
       "    }\n",
       "\n",
       "    .dataframe thead th {\n",
       "        text-align: right;\n",
       "    }\n",
       "</style>\n",
       "<table border=\"1\" class=\"dataframe\">\n",
       "  <thead>\n",
       "    <tr style=\"text-align: right;\">\n",
       "      <th></th>\n",
       "      <th>ROUGE_L_UQ</th>\n",
       "    </tr>\n",
       "  </thead>\n",
       "  <tbody>\n",
       "    <tr>\n",
       "      <th>0</th>\n",
       "      <td>0.394635</td>\n",
       "    </tr>\n",
       "    <tr>\n",
       "      <th>1</th>\n",
       "      <td>0.351085</td>\n",
       "    </tr>\n",
       "    <tr>\n",
       "      <th>2</th>\n",
       "      <td>0.297059</td>\n",
       "    </tr>\n",
       "    <tr>\n",
       "      <th>3</th>\n",
       "      <td>0.370831</td>\n",
       "    </tr>\n",
       "    <tr>\n",
       "      <th>4</th>\n",
       "      <td>0.398537</td>\n",
       "    </tr>\n",
       "  </tbody>\n",
       "</table>\n",
       "</div>"
      ],
      "text/plain": [
       "   ROUGE_L_UQ\n",
       "0    0.394635\n",
       "1    0.351085\n",
       "2    0.297059\n",
       "3    0.370831\n",
       "4    0.398537"
      ]
     },
     "execution_count": 32,
     "metadata": {},
     "output_type": "execute_result"
    }
   ],
   "source": [
    "# Lexical Similarity\n",
    "pd.read_csv('uq/lexicalUQ.csv').head()"
   ]
  },
  {
   "cell_type": "code",
   "execution_count": 33,
   "metadata": {},
   "outputs": [
    {
     "data": {
      "text/html": [
       "<div>\n",
       "<style scoped>\n",
       "    .dataframe tbody tr th:only-of-type {\n",
       "        vertical-align: middle;\n",
       "    }\n",
       "\n",
       "    .dataframe tbody tr th {\n",
       "        vertical-align: top;\n",
       "    }\n",
       "\n",
       "    .dataframe thead th {\n",
       "        text-align: right;\n",
       "    }\n",
       "</style>\n",
       "<table border=\"1\" class=\"dataframe\">\n",
       "  <thead>\n",
       "    <tr style=\"text-align: right;\">\n",
       "      <th></th>\n",
       "      <th>u_nll</th>\n",
       "    </tr>\n",
       "  </thead>\n",
       "  <tbody>\n",
       "    <tr>\n",
       "      <th>0</th>\n",
       "      <td>20.906250</td>\n",
       "    </tr>\n",
       "    <tr>\n",
       "      <th>1</th>\n",
       "      <td>15.890625</td>\n",
       "    </tr>\n",
       "    <tr>\n",
       "      <th>2</th>\n",
       "      <td>22.812500</td>\n",
       "    </tr>\n",
       "    <tr>\n",
       "      <th>3</th>\n",
       "      <td>7.632812</td>\n",
       "    </tr>\n",
       "    <tr>\n",
       "      <th>4</th>\n",
       "      <td>9.742188</td>\n",
       "    </tr>\n",
       "  </tbody>\n",
       "</table>\n",
       "</div>"
      ],
      "text/plain": [
       "       u_nll\n",
       "0  20.906250\n",
       "1  15.890625\n",
       "2  22.812500\n",
       "3   7.632812\n",
       "4   9.742188"
      ]
     },
     "execution_count": 33,
     "metadata": {},
     "output_type": "execute_result"
    }
   ],
   "source": [
    "# Predictive Entropy\n",
    "pd.read_csv('uq/u_nll.csv').head()"
   ]
  },
  {
   "cell_type": "code",
   "execution_count": 34,
   "metadata": {},
   "outputs": [
    {
     "data": {
      "text/html": [
       "<div>\n",
       "<style scoped>\n",
       "    .dataframe tbody tr th:only-of-type {\n",
       "        vertical-align: middle;\n",
       "    }\n",
       "\n",
       "    .dataframe tbody tr th {\n",
       "        vertical-align: top;\n",
       "    }\n",
       "\n",
       "    .dataframe thead th {\n",
       "        text-align: right;\n",
       "    }\n",
       "</style>\n",
       "<table border=\"1\" class=\"dataframe\">\n",
       "  <thead>\n",
       "    <tr style=\"text-align: right;\">\n",
       "      <th></th>\n",
       "      <th>u_normnll</th>\n",
       "    </tr>\n",
       "  </thead>\n",
       "  <tbody>\n",
       "    <tr>\n",
       "      <th>0</th>\n",
       "      <td>0.234985</td>\n",
       "    </tr>\n",
       "    <tr>\n",
       "      <th>1</th>\n",
       "      <td>0.182739</td>\n",
       "    </tr>\n",
       "    <tr>\n",
       "      <th>2</th>\n",
       "      <td>0.191650</td>\n",
       "    </tr>\n",
       "    <tr>\n",
       "      <th>3</th>\n",
       "      <td>0.144043</td>\n",
       "    </tr>\n",
       "    <tr>\n",
       "      <th>4</th>\n",
       "      <td>0.165161</td>\n",
       "    </tr>\n",
       "  </tbody>\n",
       "</table>\n",
       "</div>"
      ],
      "text/plain": [
       "   u_normnll\n",
       "0   0.234985\n",
       "1   0.182739\n",
       "2   0.191650\n",
       "3   0.144043\n",
       "4   0.165161"
      ]
     },
     "execution_count": 34,
     "metadata": {},
     "output_type": "execute_result"
    }
   ],
   "source": [
    "# Length Normalised Predictive Entropy\n",
    "pd.read_csv('uq/u_normnll.csv').head()"
   ]
  },
  {
   "cell_type": "markdown",
   "metadata": {},
   "source": [
    "# Radgraph based sentence-level factual score "
   ]
  },
  {
   "cell_type": "code",
   "execution_count": 8,
   "metadata": {},
   "outputs": [
    {
     "data": {
      "text/plain": [
       "[[0.0, 0.2, 0.6666666666666666, 0.5, 0.16666666666666666, 0.0],\n",
       " [1.0, 0.125, 0.3333333333333333, 0.5, 0.6666666666666666, 0.0],\n",
       " [0.0, 0.25, 0.0, 0.0, 0.75, 0.0, 0.0],\n",
       " [0.5, 1.0, 0.5, 0.0]]"
      ]
     },
     "execution_count": 8,
     "metadata": {},
     "output_type": "execute_result"
    }
   ],
   "source": [
    "sentence_score = load_pickle(\"RaDialog_sent_rad_precision.pkl\")\n",
    "sentence_score[0:4]"
   ]
  },
  {
   "cell_type": "code",
   "execution_count": null,
   "metadata": {},
   "outputs": [],
   "source": []
  }
 ],
 "metadata": {
  "kernelspec": {
   "display_name": "Python 3",
   "language": "python",
   "name": "python3"
  },
  "language_info": {
   "codemirror_mode": {
    "name": "ipython",
    "version": 3
   },
   "file_extension": ".py",
   "mimetype": "text/x-python",
   "name": "python",
   "nbconvert_exporter": "python",
   "pygments_lexer": "ipython3",
   "version": "3.7.16"
  }
 },
 "nbformat": 4,
 "nbformat_minor": 2
}
