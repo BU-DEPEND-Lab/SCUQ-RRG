{
 "cells": [
  {
   "cell_type": "markdown",
   "metadata": {},
   "source": [
    "# Example of VRO-Rad"
   ]
  },
  {
   "cell_type": "code",
   "execution_count": 1,
   "metadata": {},
   "outputs": [
    {
     "name": "stderr",
     "output_type": "stream",
     "text": [
      "/projectnb/neurips/.conda/envs/nlp_/lib/python3.8/site-packages/tqdm/auto.py:21: TqdmWarning: IProgress not found. Please update jupyter and ipywidgets. See https://ipywidgets.readthedocs.io/en/stable/user_install.html\n",
      "  from .autonotebook import tqdm as notebook_tqdm\n",
      "/projectnb/neurips/.conda/envs/nlp_/lib/python3.8/site-packages/transformers/utils/generic.py:441: UserWarning: torch.utils._pytree._register_pytree_node is deprecated. Please use torch.utils._pytree.register_pytree_node instead.\n",
      "  _torch_pytree._register_pytree_node(\n"
     ]
    }
   ],
   "source": [
    "import argparse\n",
    "import pickle\n",
    "import pandas as pd\n",
    "from radgraph import F1RadGraph\n",
    "import numpy as np\n",
    "def remove_ith_sentence(samples, i):\n",
    "    updated_samples = []\n",
    "    for sample in samples:\n",
    "        sentences = sample.split('. ')  \n",
    "        if 0 <= i < len(sentences):\n",
    "            del sentences[i]  \n",
    "        updated_sample = '. '.join(sentences)  \n",
    "        updated_samples.append(updated_sample)\n",
    "    return updated_samples\n",
    "\n",
    "def count_consistent_entities_batch(hypothesis_annotation_lists_batch, reference_annotation_lists_batch):\n",
    "    consistent_ratios = []\n",
    "    for i in range(len(hypothesis_annotation_lists_batch)):\n",
    "        hypothesis_entities = hypothesis_annotation_lists_batch[i]['entities']\n",
    "        reference_entities = reference_annotation_lists_batch[i]['entities']\n",
    "\n",
    "        reference_set = list((entity['tokens'], entity['label']) for entity in reference_entities.values()) # ignore the relation\n",
    "        hypothesis_set = list((entity['tokens'], entity['label']) for entity in hypothesis_entities.values()) \n",
    "\n",
    "        consistent_count = 0\n",
    "        for entity in hypothesis_entities.values():\n",
    "            if (entity['tokens'], entity['label']) in reference_set:\n",
    "                consistent_count += 1\n",
    "        if len(hypothesis_set) > 0:\n",
    "            ratio = consistent_count / len(hypothesis_set)\n",
    "        else:\n",
    "            ratio = float('nan') # no entity parsed within the sentence\n",
    "        consistent_ratios.append(ratio)\n",
    "    return consistent_ratios\n"
   ]
  },
  {
   "cell_type": "code",
   "execution_count": 21,
   "metadata": {},
   "outputs": [],
   "source": [
    "# Load 5 reference (original) reports\n",
    "with open(\"prediction_5.pkl\", \"rb\") as f:\n",
    "    pred = pickle.load(f)\n",
    "# Load 10 sampled (hypothesis) reports for each of the 5 original reports \n",
    "with open(\"samples_5.pkl\", \"rb\") as f:\n",
    "    samples = pickle.load(f)"
   ]
  },
  {
   "cell_type": "code",
   "execution_count": 22,
   "metadata": {},
   "outputs": [
    {
     "name": "stdout",
     "output_type": "stream",
     "text": [
      "model_type not provided, defaulting to radgraph-xl\n"
     ]
    }
   ],
   "source": [
    "mode = \"complete\"\n",
    "f1radgraph = F1RadGraph(reward_level=mode)"
   ]
  },
  {
   "cell_type": "code",
   "execution_count": 31,
   "metadata": {},
   "outputs": [
    {
     "name": "stdout",
     "output_type": "stream",
     "text": [
      "For sample 0 the uncertainty for each sentence is: [0.95, 0.4, 0.2, 0.6, 0.7166666666666667, 0.9]\n",
      "For sample 1 the uncertainty for each sentence is: [0.9, 0.7625, 0.7000000000000001, 0.9, 0.2, 0.9]\n",
      "For sample 2 the uncertainty for each sentence is: [0.8, 0.7875, 0.7666666666666667, 0.75, 0.5, 0.95, 0.8]\n",
      "For sample 3 the uncertainty for each sentence is: [0.525, 0.1, 0.775, 0.7]\n",
      "For sample 4 the uncertainty for each sentence is: [nan, 0.52, 0.5, 0.2666666666666667, 0.95]\n"
     ]
    }
   ],
   "source": [
    "greedy = pred\n",
    "all_sent = []\n",
    "for i in range(len(greedy)):\n",
    "    u_cent = []\n",
    "    for sent in greedy[i].split('. '):\n",
    "        batch_sents = [sent] * 10\n",
    "        mean_reward, reward_list, hypothesis_annotation_lists, reference_annotation_lists = f1radgraph(hyps=batch_sents, refs=samples[i])\n",
    "        conf = count_consistent_entities_batch(hypothesis_annotation_lists, reference_annotation_lists)\n",
    "        u_cent.append([1 - i for i in conf])\n",
    "    output = [np.mean(item) for item in u_cent]\n",
    "    print(f\"For sample {i} the uncertainty for each sentence is: {output}\")\n",
    "    all_sent.append(output)"
   ]
  }
 ],
 "metadata": {
  "kernelspec": {
   "display_name": "Python 3",
   "language": "python",
   "name": "python3"
  },
  "language_info": {
   "codemirror_mode": {
    "name": "ipython",
    "version": 3
   },
   "file_extension": ".py",
   "mimetype": "text/x-python",
   "name": "python",
   "nbconvert_exporter": "python",
   "pygments_lexer": "ipython3",
   "version": "3.8.18"
  }
 },
 "nbformat": 4,
 "nbformat_minor": 2
}
